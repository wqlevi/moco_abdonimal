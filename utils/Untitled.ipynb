{
 "cells": [
  {
   "cell_type": "code",
   "execution_count": 1,
   "id": "0ebe562c-e3fb-4269-9f1d-8621d2ec34f1",
   "metadata": {},
   "outputs": [],
   "source": [
    "import nibabel as nib\n",
    "from torch.utils.data import Dataset\n",
    "from pathlib import Path\n",
    "import torch\n",
    "from glob import glob"
   ]
  },
  {
   "cell_type": "code",
   "execution_count": 2,
   "id": "189745d3-5e23-4768-84f7-324f3b1b0bd2",
   "metadata": {},
   "outputs": [
    {
     "name": "stderr",
     "output_type": "stream",
     "text": [
      "/home/rawangq1/.venv/lib/python3.11/site-packages/tqdm/auto.py:21: TqdmWarning: IProgress not found. Please update jupyter and ipywidgets. See https://ipywidgets.readthedocs.io/en/stable/user_install.html\n",
      "  from .autonotebook import tqdm as notebook_tqdm\n"
     ]
    }
   ],
   "source": [
    "import matplotlib.pyplot as plt\n",
    "from torchio.transforms import RandomMotion"
   ]
  },
  {
   "cell_type": "code",
   "execution_count": 3,
   "id": "d25090fe-fc76-4931-8638-da3b78f7f380",
   "metadata": {},
   "outputs": [],
   "source": [
    "ls = list(sorted(Path(\"/mnt/qdata/share/raecker1/ukbdata_70k/abdominal_MRI/processed/\").glob(\"**/wat.nii.gz\")))"
   ]
  },
  {
   "cell_type": "code",
   "execution_count": 4,
   "id": "0a00bc57-8f3f-4eb8-bebb-d4a07b237e2e",
   "metadata": {},
   "outputs": [],
   "source": [
    "ls_small = ls[:10]"
   ]
  },
  {
   "cell_type": "code",
   "execution_count": 5,
   "id": "0d6e76e7-70a6-457d-b2a3-d4e8944b7360",
   "metadata": {},
   "outputs": [],
   "source": [
    "import os\n",
    "from multiprocessing import Pool, current_process\n"
   ]
  },
  {
   "cell_type": "code",
   "execution_count": 11,
   "id": "10200b3a-6043-4a0b-9abd-47972faab47d",
   "metadata": {},
   "outputs": [],
   "source": [
    "\n",
    "def fileio(filename:str, action:RandomMotion):\n",
    "    nii = nib.load(filename)\n",
    "    arr = nii.get_fdata()\n",
    "    out_arr = action(arr[None])\n",
    "    print(arr[None].shape)\n",
    "    new_name = nii.get_filename().replace(\"processed/\",\"processed/sim/\").replace(\"raecker1\",\"rawangq1\").replace(\"/wat\",\"_wat\")\n",
    "    print(new_name)\n",
    "    new_nii = nib.Nifti1Image(out_arr, nii.affine)\n",
    "    nib.save(new_nii, new_name)\n",
    "def main(filename:str, **kwargs):\n",
    "    degrees = kwargs[\"degrees\"] if \"degrees\" in kwargs else 1\n",
    "    translation = kwargs[\"translation\"] if \"translation\" in kwargs else 1\n",
    "    rm = RandomMotion(degrees=degrees, translation=translation)\n",
    "    fileio(filename, rm)"
   ]
  },
  {
   "cell_type": "code",
   "execution_count": 12,
   "id": "1f1052af-9347-4ea1-b682-a738e7721178",
   "metadata": {},
   "outputs": [
    {
     "name": "stdout",
     "output_type": "stream",
     "text": [
      "(1, 224, 168, 363)\n",
      "/mnt/qdata/share/rawangq1/ukbdata_70k/abdominal_MRI/processed/sim/1000029_wat.nii.gz\n"
     ]
    }
   ],
   "source": [
    "main(ls[0])"
   ]
  },
  {
   "cell_type": "code",
   "execution_count": 7,
   "id": "12c71b8a-fc06-4874-9129-0450a3bb119c",
   "metadata": {},
   "outputs": [
    {
     "name": "stdout",
     "output_type": "stream",
     "text": [
      "/mnt/qdata/share/rawangq1/ukbdata_70k/abdominal_MRI/processed/sim/1000563/wat.nii.gz\n"
     ]
    },
    {
     "name": "stderr",
     "output_type": "stream",
     "text": [
      "Process ForkPoolWorker-12:\n",
      "Process ForkPoolWorker-13:\n",
      "Process ForkPoolWorker-10:\n",
      "Process ForkPoolWorker-11:\n"
     ]
    },
    {
     "ename": "KeyboardInterrupt",
     "evalue": "",
     "output_type": "error",
     "traceback": [
      "\u001b[0;31m---------------------------------------------------------------------------\u001b[0m",
      "\u001b[0;31mKeyboardInterrupt\u001b[0m                         Traceback (most recent call last)",
      "Cell \u001b[0;32mIn[7], line 6\u001b[0m\n\u001b[1;32m      4\u001b[0m n_process \u001b[38;5;241m=\u001b[39m \u001b[38;5;241m4\u001b[39m\n\u001b[1;32m      5\u001b[0m \u001b[38;5;28;01mwith\u001b[39;00m Pool(processes\u001b[38;5;241m=\u001b[39mn_process) \u001b[38;5;28;01mas\u001b[39;00m P:\n\u001b[0;32m----> 6\u001b[0m     \u001b[43mP\u001b[49m\u001b[38;5;241;43m.\u001b[39;49m\u001b[43mmap\u001b[49m\u001b[43m(\u001b[49m\u001b[43mmain\u001b[49m\u001b[43m,\u001b[49m\u001b[43m \u001b[49m\u001b[43mfilepaths\u001b[49m\u001b[43m)\u001b[49m\n\u001b[1;32m      7\u001b[0m     \u001b[38;5;28mprint\u001b[39m(P)\n\u001b[1;32m      8\u001b[0m     P\u001b[38;5;241m.\u001b[39mclose()\n",
      "File \u001b[0;32m~/.local/lib/python3.11/multiprocessing/pool.py:367\u001b[0m, in \u001b[0;36mPool.map\u001b[0;34m(self, func, iterable, chunksize)\u001b[0m\n\u001b[1;32m    362\u001b[0m \u001b[38;5;28;01mdef\u001b[39;00m \u001b[38;5;21mmap\u001b[39m(\u001b[38;5;28mself\u001b[39m, func, iterable, chunksize\u001b[38;5;241m=\u001b[39m\u001b[38;5;28;01mNone\u001b[39;00m):\n\u001b[1;32m    363\u001b[0m \u001b[38;5;250m    \u001b[39m\u001b[38;5;124;03m'''\u001b[39;00m\n\u001b[1;32m    364\u001b[0m \u001b[38;5;124;03m    Apply `func` to each element in `iterable`, collecting the results\u001b[39;00m\n\u001b[1;32m    365\u001b[0m \u001b[38;5;124;03m    in a list that is returned.\u001b[39;00m\n\u001b[1;32m    366\u001b[0m \u001b[38;5;124;03m    '''\u001b[39;00m\n\u001b[0;32m--> 367\u001b[0m     \u001b[38;5;28;01mreturn\u001b[39;00m \u001b[38;5;28;43mself\u001b[39;49m\u001b[38;5;241;43m.\u001b[39;49m\u001b[43m_map_async\u001b[49m\u001b[43m(\u001b[49m\u001b[43mfunc\u001b[49m\u001b[43m,\u001b[49m\u001b[43m \u001b[49m\u001b[43miterable\u001b[49m\u001b[43m,\u001b[49m\u001b[43m \u001b[49m\u001b[43mmapstar\u001b[49m\u001b[43m,\u001b[49m\u001b[43m \u001b[49m\u001b[43mchunksize\u001b[49m\u001b[43m)\u001b[49m\u001b[38;5;241;43m.\u001b[39;49m\u001b[43mget\u001b[49m\u001b[43m(\u001b[49m\u001b[43m)\u001b[49m\n",
      "File \u001b[0;32m~/.local/lib/python3.11/multiprocessing/pool.py:768\u001b[0m, in \u001b[0;36mApplyResult.get\u001b[0;34m(self, timeout)\u001b[0m\n\u001b[1;32m    767\u001b[0m \u001b[38;5;28;01mdef\u001b[39;00m \u001b[38;5;21mget\u001b[39m(\u001b[38;5;28mself\u001b[39m, timeout\u001b[38;5;241m=\u001b[39m\u001b[38;5;28;01mNone\u001b[39;00m):\n\u001b[0;32m--> 768\u001b[0m     \u001b[38;5;28;43mself\u001b[39;49m\u001b[38;5;241;43m.\u001b[39;49m\u001b[43mwait\u001b[49m\u001b[43m(\u001b[49m\u001b[43mtimeout\u001b[49m\u001b[43m)\u001b[49m\n\u001b[1;32m    769\u001b[0m     \u001b[38;5;28;01mif\u001b[39;00m \u001b[38;5;129;01mnot\u001b[39;00m \u001b[38;5;28mself\u001b[39m\u001b[38;5;241m.\u001b[39mready():\n\u001b[1;32m    770\u001b[0m         \u001b[38;5;28;01mraise\u001b[39;00m \u001b[38;5;167;01mTimeoutError\u001b[39;00m\n",
      "File \u001b[0;32m~/.local/lib/python3.11/multiprocessing/pool.py:765\u001b[0m, in \u001b[0;36mApplyResult.wait\u001b[0;34m(self, timeout)\u001b[0m\n\u001b[1;32m    764\u001b[0m \u001b[38;5;28;01mdef\u001b[39;00m \u001b[38;5;21mwait\u001b[39m(\u001b[38;5;28mself\u001b[39m, timeout\u001b[38;5;241m=\u001b[39m\u001b[38;5;28;01mNone\u001b[39;00m):\n\u001b[0;32m--> 765\u001b[0m     \u001b[38;5;28;43mself\u001b[39;49m\u001b[38;5;241;43m.\u001b[39;49m\u001b[43m_event\u001b[49m\u001b[38;5;241;43m.\u001b[39;49m\u001b[43mwait\u001b[49m\u001b[43m(\u001b[49m\u001b[43mtimeout\u001b[49m\u001b[43m)\u001b[49m\n",
      "File \u001b[0;32m~/.local/lib/python3.11/threading.py:622\u001b[0m, in \u001b[0;36mEvent.wait\u001b[0;34m(self, timeout)\u001b[0m\n\u001b[1;32m    620\u001b[0m signaled \u001b[38;5;241m=\u001b[39m \u001b[38;5;28mself\u001b[39m\u001b[38;5;241m.\u001b[39m_flag\n\u001b[1;32m    621\u001b[0m \u001b[38;5;28;01mif\u001b[39;00m \u001b[38;5;129;01mnot\u001b[39;00m signaled:\n\u001b[0;32m--> 622\u001b[0m     signaled \u001b[38;5;241m=\u001b[39m \u001b[38;5;28;43mself\u001b[39;49m\u001b[38;5;241;43m.\u001b[39;49m\u001b[43m_cond\u001b[49m\u001b[38;5;241;43m.\u001b[39;49m\u001b[43mwait\u001b[49m\u001b[43m(\u001b[49m\u001b[43mtimeout\u001b[49m\u001b[43m)\u001b[49m\n\u001b[1;32m    623\u001b[0m \u001b[38;5;28;01mreturn\u001b[39;00m signaled\n",
      "File \u001b[0;32m~/.local/lib/python3.11/threading.py:320\u001b[0m, in \u001b[0;36mCondition.wait\u001b[0;34m(self, timeout)\u001b[0m\n\u001b[1;32m    318\u001b[0m \u001b[38;5;28;01mtry\u001b[39;00m:    \u001b[38;5;66;03m# restore state no matter what (e.g., KeyboardInterrupt)\u001b[39;00m\n\u001b[1;32m    319\u001b[0m     \u001b[38;5;28;01mif\u001b[39;00m timeout \u001b[38;5;129;01mis\u001b[39;00m \u001b[38;5;28;01mNone\u001b[39;00m:\n\u001b[0;32m--> 320\u001b[0m         \u001b[43mwaiter\u001b[49m\u001b[38;5;241;43m.\u001b[39;49m\u001b[43macquire\u001b[49m\u001b[43m(\u001b[49m\u001b[43m)\u001b[49m\n\u001b[1;32m    321\u001b[0m         gotit \u001b[38;5;241m=\u001b[39m \u001b[38;5;28;01mTrue\u001b[39;00m\n\u001b[1;32m    322\u001b[0m     \u001b[38;5;28;01melse\u001b[39;00m:\n",
      "\u001b[0;31mKeyboardInterrupt\u001b[0m: "
     ]
    }
   ],
   "source": [
    "data_path = \"/mnt/qdata/share/raecker1/ukbdata_70k/abdominal_MRI/processed/\"\n",
    "filepaths = list(sorted(Path(data_path).glob(\"**/wat.nii.gz\")))[:10]\n",
    "os.makedirs(Path(data_path.replace(\"raecker1\",\"rawangq1\"),'sim'), exist_ok=True)\n",
    "n_process = 4\n",
    "with Pool(processes=n_process) as P:\n",
    "    P.map(main, filepaths)\n",
    "    print(P)\n",
    "    P.close()\n",
    "    P.join()\n",
    "print(\"\\033[93m Fertig \\033[0m\")\n"
   ]
  },
  {
   "cell_type": "code",
   "execution_count": 55,
   "id": "04fa1536-c362-4289-98ea-248662982fa3",
   "metadata": {},
   "outputs": [
    {
     "data": {
      "text/plain": [
       "'/mnt/qdata/share/raecker1/ukbdata_70k/abdominal_MRI/processed/sim/1000029/wat.nii.gz'"
      ]
     },
     "execution_count": 55,
     "metadata": {},
     "output_type": "execute_result"
    }
   ],
   "source": [
    "nii.get_filename().replace(\"processed/\",\"processed/sim/\")"
   ]
  },
  {
   "cell_type": "code",
   "execution_count": 56,
   "id": "f380c62e-ed70-45b7-814c-c5fac25e119d",
   "metadata": {},
   "outputs": [
    {
     "data": {
      "text/plain": [
       "\u001b[0;31mSignature:\u001b[0m \u001b[0mnib\u001b[0m\u001b[0;34m.\u001b[0m\u001b[0msave\u001b[0m\u001b[0;34m(\u001b[0m\u001b[0mimg\u001b[0m\u001b[0;34m:\u001b[0m \u001b[0;34m'FileBasedImage'\u001b[0m\u001b[0;34m,\u001b[0m \u001b[0mfilename\u001b[0m\u001b[0;34m:\u001b[0m \u001b[0;34m'FileSpec'\u001b[0m\u001b[0;34m,\u001b[0m \u001b[0;34m**\u001b[0m\u001b[0mkwargs\u001b[0m\u001b[0;34m)\u001b[0m \u001b[0;34m->\u001b[0m \u001b[0;34m'None'\u001b[0m\u001b[0;34m\u001b[0m\u001b[0;34m\u001b[0m\u001b[0m\n",
       "\u001b[0;31mDocstring:\u001b[0m\n",
       "Save an image to file adapting format to `filename`\n",
       "\n",
       "Parameters\n",
       "----------\n",
       "img : ``SpatialImage``\n",
       "   image to save\n",
       "filename : str or os.PathLike\n",
       "   filename (often implying filenames) to which to save `img`.\n",
       "\\*\\*kwargs : keyword arguments\n",
       "    Keyword arguments to format-specific save\n",
       "\n",
       "Returns\n",
       "-------\n",
       "None\n",
       "\u001b[0;31mFile:\u001b[0m      ~/.venv/lib/python3.11/site-packages/nibabel/loadsave.py\n",
       "\u001b[0;31mType:\u001b[0m      function"
      ]
     },
     "metadata": {},
     "output_type": "display_data"
    }
   ],
   "source": [
    "?nib.save"
   ]
  },
  {
   "cell_type": "code",
   "execution_count": 44,
   "id": "9977e0e2-e53c-49cd-b3fc-c9ac51e32984",
   "metadata": {},
   "outputs": [],
   "source": [
    "import numpy as np"
   ]
  },
  {
   "cell_type": "code",
   "execution_count": 45,
   "id": "914a57b7-a458-4844-b3db-b08c53173a3f",
   "metadata": {},
   "outputs": [],
   "source": [
    "def f(i:np.array,method:RandomMotion):\n",
    "    o = method(i)"
   ]
  },
  {
   "cell_type": "code",
   "execution_count": 48,
   "id": "80973b6d-fabe-44c9-8d2c-4788222a7cb8",
   "metadata": {},
   "outputs": [],
   "source": [
    "def f1(i:torch.Tensor,method:RandomMotion):\n",
    "    o = method(i)"
   ]
  },
  {
   "cell_type": "code",
   "execution_count": 50,
   "id": "763b6d8e-2224-4cb7-a7c0-52263d74c74c",
   "metadata": {},
   "outputs": [
    {
     "name": "stdout",
     "output_type": "stream",
     "text": [
      "2.11 s ± 45.5 ms per loop (mean ± std. dev. of 7 runs, 1 loop each)\n"
     ]
    }
   ],
   "source": [
    "%timeit f(nii,rm)"
   ]
  },
  {
   "cell_type": "code",
   "execution_count": 49,
   "id": "d3391c7f-58ca-4a52-b50d-fb729b450c51",
   "metadata": {},
   "outputs": [
    {
     "name": "stdout",
     "output_type": "stream",
     "text": [
      "2.23 s ± 74.6 ms per loop (mean ± std. dev. of 7 runs, 1 loop each)\n"
     ]
    }
   ],
   "source": [
    "%timeit f1(nii_t,rm)"
   ]
  },
  {
   "cell_type": "code",
   "execution_count": 40,
   "id": "8ebffd1c-0203-4795-b729-c313ff29a826",
   "metadata": {},
   "outputs": [
    {
     "data": {
      "text/plain": [
       "(224, 168, 363)"
      ]
     },
     "execution_count": 40,
     "metadata": {},
     "output_type": "execute_result"
    }
   ],
   "source": [
    "nii.shape"
   ]
  },
  {
   "cell_type": "code",
   "execution_count": null,
   "id": "10fd7215-099e-43ca-ac4a-c680a3e0778f",
   "metadata": {},
   "outputs": [],
   "source": [
    "class MoCoDataset(Dataset):\n",
    "    \"\"\" MoCoDataset class for loading data from a directory of nifti files.\n",
    "    Expects data to be cropped into cubes of 64x64x64.\n",
    "    \"\"\"\n",
    "    def __init__(self, sim_path, gt_path):\n",
    "        self.sim_paths= sorted(Path(sim_path).glob('**/wat.nii*'))\n",
    "        self.gt_paths = sorted(Path(gt_path).glob('*.nii*'))\n",
    "\n",
    "    def __len__(self):\n",
    "        return len(self.sim_paths)\n",
    "\n",
    "    def __getitem__(self, idx):\n",
    "        sim = nib.load(self.sim_paths[idx]).get_fdata()\n",
    "        gt = nib.load(self.gt_paths[idx]).get_fdata()\n",
    "        return {'GT': torch.from_numpy(gt[None,:,:,:]), 'motion': torch.from_numpy(gt[None,:,:,:])}\n",
    "    @staticmethod\n",
    "    def random_split(dataset, ratio:int):\n",
    "        \"\"\"\n",
    "        usage: first build class instance of `MoCoset = MoCoDataset([path1],[path2])`\n",
    "                then call `MoCoDataset.random_split(MoCoset, ratio=[some int])`\n",
    "        input: dataset, ratio of split\n",
    "        return: splited sub-dataset\n",
    "        \"\"\"\n",
    "        generator = torch.Generator().manual_seed(40)\n",
    "        train_set, val_set = torch.utils.data.random_split(dataset, \n",
    "                                                       [len(dataset)//ratio, (len(dataset)-len(dataset)//ratio)],\n",
    "                                                       generator)\n",
    "        return train_set, val_set"
   ]
  }
 ],
 "metadata": {
  "kernelspec": {
   "display_name": "Python 3 (ipykernel)",
   "language": "python",
   "name": "python3"
  },
  "language_info": {
   "codemirror_mode": {
    "name": "ipython",
    "version": 3
   },
   "file_extension": ".py",
   "mimetype": "text/x-python",
   "name": "python",
   "nbconvert_exporter": "python",
   "pygments_lexer": "ipython3",
   "version": "3.11.0"
  }
 },
 "nbformat": 4,
 "nbformat_minor": 5
}
